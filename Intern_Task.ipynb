{
  "nbformat": 4,
  "nbformat_minor": 0,
  "metadata": {
    "colab": {
      "provenance": [],
      "authorship_tag": "ABX9TyNFbnNFq+X+y58Kn7u3K7jC",
      "include_colab_link": true
    },
    "kernelspec": {
      "name": "python3",
      "display_name": "Python 3"
    },
    "language_info": {
      "name": "python"
    }
  },
  "cells": [
    {
      "cell_type": "markdown",
      "metadata": {
        "id": "view-in-github",
        "colab_type": "text"
      },
      "source": [
        "<a href=\"https://colab.research.google.com/github/usman-codez/intership_Task/blob/main/Intern_Task.ipynb\" target=\"_parent\"><img src=\"https://colab.research.google.com/assets/colab-badge.svg\" alt=\"Open In Colab\"/></a>"
      ]
    },
    {
      "cell_type": "code",
      "execution_count": null,
      "metadata": {
        "colab": {
          "base_uri": "https://localhost:8080/"
        },
        "id": "dafKJHZri4T6",
        "outputId": "31c09d58-4013-442a-8272-2f57bd8b62cc"
      },
      "outputs": [
        {
          "output_type": "execute_result",
          "data": {
            "text/plain": [
              "('Ali', 90)"
            ]
          },
          "metadata": {},
          "execution_count": 17
        }
      ],
      "source": [
        "#This program returns the highest marks with its key\n",
        "std1 = {\n",
        "    'Tayyab':88,\n",
        "    'Gulsher':77,\n",
        "    'Ali':90,\n",
        "    'Hassan':72\n",
        "}\n",
        "def highest_marks(std):\n",
        "  high = max(std.values())\n",
        "  for key,value in std.items():\n",
        "    if value == high:\n",
        "      return key,value\n",
        "highest_marks(std1)"
      ]
    },
    {
      "cell_type": "code",
      "source": [
        "#This program takes two lists and then convert them into dictionary\n",
        "\n",
        "name = ['Ali','Tayyab','Gulsher','Shah']\n",
        "numbers = [90,92,89,91]\n",
        "# Convert lists into a dictionary\n",
        "dic = dict(zip(name,numbers))\n",
        "#For showing dict\n",
        "print(dic)"
      ],
      "metadata": {
        "colab": {
          "base_uri": "https://localhost:8080/"
        },
        "id": "34dXaemzjPOK",
        "outputId": "a299dbb6-8ea3-4b05-e1f6-db98a7e2267b"
      },
      "execution_count": null,
      "outputs": [
        {
          "output_type": "stream",
          "name": "stdout",
          "text": [
            "{'Ali': 90, 'Tayyab': 92, 'Gulsher': 89, 'Shah': 91}\n"
          ]
        }
      ]
    },
    {
      "cell_type": "code",
      "source": [
        "#This program add any student in the dict with its value if not already otherwise update it\n",
        "\n",
        "std = {\n",
        "    'Tayyab':[92,65,78],\n",
        "    'Gulsher':[89,77,53],\n",
        "    'Ali':[90,87,68],\n",
        "    'Hassan':[72,53,82]\n",
        "}\n",
        "def updates(students,name,marks):\n",
        "  if name in students:\n",
        "    students[name] = marks\n",
        "  else:\n",
        "    students[name] = marks\n",
        "  return students\n",
        "updates(std,'usman',[90,87,68])\n"
      ],
      "metadata": {
        "colab": {
          "base_uri": "https://localhost:8080/"
        },
        "id": "6eA0_7TnlPDl",
        "outputId": "fb601740-063f-4d97-a70e-956879a82671"
      },
      "execution_count": null,
      "outputs": [
        {
          "output_type": "execute_result",
          "data": {
            "text/plain": [
              "{'Tayyab': [92, 65, 78],\n",
              " 'Gulsher': [89, 77, 53],\n",
              " 'Ali': [90, 87, 68],\n",
              " 'Hassan': [72, 53, 82],\n",
              " 'usman': [90, 87, 68]}"
            ]
          },
          "metadata": {},
          "execution_count": 8
        }
      ]
    },
    {
      "cell_type": "code",
      "source": [
        "#This program sorts the list of dictionries in the decending order\n",
        "\n",
        "std = [{\n",
        "    'Tayyab':[92,65,78],\n",
        "    'Gulsher':[89,77,53],},\n",
        " {'Ali':[90,87,68],\n",
        "    'Hassan':[72,53,82]},\n",
        " {'shah':[90,87,68],\n",
        "    'mud':[72,53,82]}]\n",
        "def get_sort(d):\n",
        "  for key,value in d.items():\n",
        "    avg = sum(value)/len(value)\n",
        "    return -avg\n",
        "sort = sorted(std,key=get_sort)\n",
        "print(sort)\n"
      ],
      "metadata": {
        "colab": {
          "base_uri": "https://localhost:8080/"
        },
        "id": "B4_FgGUcq31Y",
        "outputId": "d82b08f3-46e3-4749-8b25-375056e77e9d"
      },
      "execution_count": null,
      "outputs": [
        {
          "output_type": "stream",
          "name": "stdout",
          "text": [
            "[{'Ali': [90, 87, 68], 'Hassan': [72, 53, 82]}, {'shah': [90, 87, 68], 'mud': [72, 53, 82]}, {'Tayyab': [92, 65, 78], 'Gulsher': [89, 77, 53]}]\n"
          ]
        }
      ]
    },
    {
      "cell_type": "code",
      "source": [
        "#To calculate the average of each students marks\n",
        "\n",
        "std = {\n",
        "    'Tayyab':[92,65,78],\n",
        "    'Gulsher':[89,77,53],\n",
        "    'Ali':[90,87,68],\n",
        "    'Hassan':[72,53,82]\n",
        "}\n",
        "averages = {}\n",
        "def average(students):\n",
        "  for key,value in students.items():\n",
        "    avg = sum(value)/len(value)\n",
        "    averages[key] = avg\n",
        "  return averages\n",
        "average(std)"
      ],
      "metadata": {
        "colab": {
          "base_uri": "https://localhost:8080/"
        },
        "id": "BMaIh18rxh8y",
        "outputId": "d61f828a-d969-460d-c5cb-f225747dae54"
      },
      "execution_count": null,
      "outputs": [
        {
          "output_type": "execute_result",
          "data": {
            "text/plain": [
              "{'Tayyab': 78.33333333333333,\n",
              " 'Gulsher': 73.0,\n",
              " 'Ali': 81.66666666666667,\n",
              " 'Hassan': 69.0}"
            ]
          },
          "metadata": {},
          "execution_count": 29
        }
      ]
    },
    {
      "cell_type": "code",
      "source": [
        "students = [{'Name':'Ali','Roll':1009,'Age':20},\n",
        " {'Name':'Tayyab','Roll':1045,'Age':22},\n",
        "  {'Name':'Gulsher','Roll':1081,'Age':25},\n",
        "   {'Name':'Shah','Roll':1079,'Age':25}]\n",
        "\n",
        "def search(std):\n",
        "  name = input('Enter the name: ')\n",
        "  for i in std:\n",
        "    if i['Name']==name.title():\n",
        "      print(i)\n",
        "      return\n",
        "\n",
        "  print('Student not exist')\n",
        "\n",
        "search(students)"
      ],
      "metadata": {
        "colab": {
          "base_uri": "https://localhost:8080/"
        },
        "id": "KcTs_tFlrGOD",
        "outputId": "b8c5e585-cfb5-42d5-f06e-ae407a9d4fce"
      },
      "execution_count": null,
      "outputs": [
        {
          "output_type": "stream",
          "name": "stdout",
          "text": [
            "Enter the name: tayyab\n",
            "{'Name': 'Tayyab', 'Roll': 1045, 'Age': 22}\n"
          ]
        }
      ]
    },
    {
      "cell_type": "code",
      "source": [
        "classes = {\n",
        "    'Fifth': [89,56,45,90,93,33],\n",
        "    'Sixth': [67,98,23,45,84,32],\n",
        "    'Seventh': [56,78,90,93,33,89]\n",
        "}\n",
        "avgs = {}\n",
        "def highest_avg(cls):\n",
        "  for key,value in cls.items():\n",
        "    avg = sum(value)/len(value)\n",
        "    avgs[key]=avg\n",
        "  high = max(avgs, key = avgs.get)\n",
        "  return high,avgs[high]\n",
        "\n",
        "highest_avg(classes)\n"
      ],
      "metadata": {
        "colab": {
          "base_uri": "https://localhost:8080/"
        },
        "id": "CiBEe7ofu30e",
        "outputId": "5482353d-41f0-4355-875d-2c8e32ff9060"
      },
      "execution_count": null,
      "outputs": [
        {
          "output_type": "execute_result",
          "data": {
            "text/plain": [
              "('Seventh', 73.16666666666667)"
            ]
          },
          "metadata": {},
          "execution_count": 29
        }
      ]
    },
    {
      "cell_type": "code",
      "source": [
        "std = {\n",
        "    'Ali':[87,90,68,88],\n",
        "    'Tayyab':[81,92,59,80],\n",
        "    'Gulsher':[77,89,58,81]\n",
        "}\n",
        "std_1 = {}\n",
        "def grade(students):\n",
        "  for key,value in students.items():\n",
        "    avg = sum(value)/len(value)\n",
        "    if avg>90:\n",
        "      students[key].append('A+')\n",
        "    elif avg>80:\n",
        "      students[key].append('A')\n",
        "    elif avg>70:\n",
        "      students[key].append('B')\n",
        "    elif avg>60:\n",
        "      students[key].append('C')\n",
        "    elif avg>50:\n",
        "      students[key].append('D')\n",
        "    else:\n",
        "      students[key].append('F')\n",
        "\n",
        "  return students\n",
        "grade(std)\n"
      ],
      "metadata": {
        "id": "VUj8wyga4YZh",
        "colab": {
          "base_uri": "https://localhost:8080/"
        },
        "outputId": "7639b5fe-e69d-4fe8-c9d2-bbd942627c91"
      },
      "execution_count": null,
      "outputs": [
        {
          "output_type": "execute_result",
          "data": {
            "text/plain": [
              "{'Ali': [87, 90, 68, 88, 'A'],\n",
              " 'Tayyab': [81, 92, 59, 80, 'B'],\n",
              " 'Gulsher': [77, 89, 58, 81, 'B']}"
            ]
          },
          "metadata": {},
          "execution_count": 4
        }
      ]
    },
    {
      "cell_type": "code",
      "source": [
        "std = [('Ali','mechanics',90),('Usman','Algebra',88),('Gul','complex',68)]\n",
        "dic = {}\n",
        "\n",
        "for name, subject, marks in std:\n",
        "  if name not in std:\n",
        "    dic[name] = {}\n",
        "  dic[name][subject]=subject\n",
        "\n",
        "print(dic)\n"
      ],
      "metadata": {
        "colab": {
          "base_uri": "https://localhost:8080/"
        },
        "id": "K6GndcN164yK",
        "outputId": "0543bceb-8bab-4434-f4dd-9fe310ee5d6e"
      },
      "execution_count": null,
      "outputs": [
        {
          "output_type": "stream",
          "name": "stdout",
          "text": [
            "{'Ali': {'mechanics': 'mechanics'}, 'Usman': {'Algebra': 'Algebra'}, 'Gul': {'complex': 'complex'}}\n"
          ]
        }
      ]
    },
    {
      "cell_type": "code",
      "source": [
        "ali = {'Mechanics':90,'Algebra':87,'real':88}\n",
        "tayab = {'Mechanics':92,'Algebra':81,'real':83}\n",
        "gul = {'Mechanics':89,'Algebra':80,'real':84}\n",
        "\n",
        "std = {}\n",
        "#Method 1\n",
        "# sum1 = sum(ali.values())\n",
        "# std['Ali'] = sum1\n",
        "# sum2 = sum(tayab.values())\n",
        "# std['tayab'] = sum2\n",
        "# sum3 = sum(gul.values())\n",
        "# std['gul'] = sum3\n",
        "\n",
        "#method2\n",
        "std['Ali'] = sum(ali.values())\n",
        "std['Tayyab'] = sum(tayab.values())\n",
        "std['Gulsher'] = sum(gul.values())\n",
        "\n",
        "print(std)"
      ],
      "metadata": {
        "colab": {
          "base_uri": "https://localhost:8080/"
        },
        "id": "9jVMc2mh7t0j",
        "outputId": "c6783a71-138c-4078-a19b-814e0bd91175"
      },
      "execution_count": null,
      "outputs": [
        {
          "output_type": "stream",
          "name": "stdout",
          "text": [
            "{'Ali': 265, 'Tayyab': 256, 'Gulsher': 253}\n"
          ]
        }
      ]
    },
    {
      "cell_type": "code",
      "source": [
        "std = {'Ali':90,'Gul':89,'Tyb':92,'Shah':81,'Saad':71,'Noman':78,'M':93}\n",
        "avg = sum(std.values())/len(std.values())\n",
        "\n",
        "for k,v in std.copy().items():\n",
        "  if v<avg:\n",
        "    del std[k]\n",
        "\n",
        "print(std)"
      ],
      "metadata": {
        "colab": {
          "base_uri": "https://localhost:8080/"
        },
        "id": "BwRbEw0PATCG",
        "outputId": "c6a33e6b-8ac8-47a2-85d6-5cf0e11f77f0"
      },
      "execution_count": null,
      "outputs": [
        {
          "output_type": "stream",
          "name": "stdout",
          "text": [
            "{'Ali': 90, 'Gul': 89, 'Tyb': 92, 'M': 93}\n"
          ]
        }
      ]
    },
    {
      "cell_type": "code",
      "source": [
        "std = {'Ali':90,'Gul':89,'Tyb':92,'Shah':81,'Saad':71,'Noman':78,'M':93}\n",
        "def diff(marks):\n",
        "  ma = max(marks.values())\n",
        "  mi = min(marks.values())\n",
        "  return f'The difference between max and min marks is {ma-mi}'\n",
        "\n",
        "a = diff(std)\n",
        "print(a)"
      ],
      "metadata": {
        "colab": {
          "base_uri": "https://localhost:8080/"
        },
        "id": "3QCOG5krDXFT",
        "outputId": "61f806de-67d6-4b98-e886-1e85052775c3"
      },
      "execution_count": null,
      "outputs": [
        {
          "output_type": "stream",
          "name": "stdout",
          "text": [
            "The difference between max and min marks is 22\n"
          ]
        }
      ]
    },
    {
      "cell_type": "code",
      "source": [
        "std = [90,93,90,92,67,83,79,59,66,92]\n",
        "\n",
        "c = {}\n",
        "for i in std:\n",
        "  if i in c:\n",
        "    c[i] += 1\n",
        "  else:\n",
        "    c[i] = 1\n",
        "\n",
        "print(c)\n"
      ],
      "metadata": {
        "colab": {
          "base_uri": "https://localhost:8080/"
        },
        "id": "r-bW7AqFFj_4",
        "outputId": "00ed12b8-9457-4de3-ff77-614be9684be6"
      },
      "execution_count": null,
      "outputs": [
        {
          "output_type": "stream",
          "name": "stdout",
          "text": [
            "{90: 2, 93: 1, 92: 2, 67: 1, 83: 1, 79: 1, 59: 1, 66: 1}\n"
          ]
        }
      ]
    },
    {
      "cell_type": "code",
      "source": [
        "std = {'Ali':90,'Gul':89,'Tyb':92,'Shah':81,'Saad':71,'Noman':78,'M':93}\n",
        "temp = std\n",
        "highest = 0\n",
        "highest_mark = {}\n",
        "\n",
        "for x in range(len(std)):\n",
        "    if len(highest_mark) == 3:\n",
        "        continue\n",
        "    for x,y in temp.items():\n",
        "        if y > highest:\n",
        "            name = x\n",
        "            highest = y\n",
        "    highest_mark[name] = highest\n",
        "    highest = 0\n",
        "\n",
        "    del temp[x]\n",
        "print(highest_mark)\n"
      ],
      "metadata": {
        "colab": {
          "base_uri": "https://localhost:8080/"
        },
        "id": "fc3jHO35IxCd",
        "outputId": "ca433fcc-ff16-4da2-a6b8-13ec9b699434"
      },
      "execution_count": null,
      "outputs": [
        {
          "output_type": "stream",
          "name": "stdout",
          "text": [
            "{'M': 93, 'Tyb': 92, 'Ali': 90}\n"
          ]
        }
      ]
    }
  ]
}